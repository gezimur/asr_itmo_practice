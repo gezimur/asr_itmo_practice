{
 "cells": [
  {
   "cell_type": "markdown",
   "id": "04d0eabe",
   "metadata": {},
   "source": [
    "# Языковые модели\n",
    "\n",
    "Языковые модели играют важную роль в системах распознавания речи, помогая создавать более грамотные и лексически корректные тексты. В данной работе мы будем изучать нграмные языковые модели, которые позволяют довольно легко оценить вероятность и правдоподобность текста.\n",
    "\n",
    "В нграмной языковой модели, нграм - это последовательность из n слов в тексте. Например, в предложении \"по-моему мы сэкономим уйму времени если я сойду с ума прямо сейчас\", биграмами будут \"по-моему мы\", \"мы сэкономим\", \"сэкономим уйму\" итд. Языковые модели оценивают вероятность появления последовательности слов, исходя из статистики появления каждого из нграм в обучающей выборке.\n",
    "\n",
    "Порядком (order) нграм языковой модели называют максимальную длину нграм, которую учитывает модель. \n",
    "\n",
    "Практическая работа разделена на 2 части: \n",
    "1. Построение нграмой языковой модели - основная часть, 12 баллов\n",
    "1. Предсказание с помощью языковой модели - дополнительная часть, 4 балла\n",
    "\n",
    "\n",
    "\n",
    "Полезные сслыки:\n",
    "* arpa формат - https://cmusphinx.github.io/wiki/arpaformat/\n",
    "* обучающие материалы - https://pages.ucsd.edu/~rlevy/teaching/2015winter/lign165/lectures/lecture13/lecture13_ngrams_with_SRILM.pdf\n",
    "* обучающие материалы.2 - https://cjlise.github.io/machine-learning/N-Gram-Language-Model/"
   ]
  },
  {
   "cell_type": "code",
   "execution_count": 4,
   "id": "4bd5c324",
   "metadata": {},
   "outputs": [],
   "source": [
    "import numpy as np\n",
    "from collections import defaultdict\n",
    "from typing import List, Dict, Tuple"
   ]
  },
  {
   "cell_type": "markdown",
   "id": "b0c1c1d7",
   "metadata": {},
   "source": [
    "# 1. Построение нграмной языковой модели. (12 баллов)\n",
    "\n",
    "\n",
    "Вероятность текста с помощью нграмной языковой модели можно вычислить по формуле: \n",
    "$$ P(w_1, w_2, .., w_n) = {\\prod{{P_{i=0}^{n}(w_i| w_{i-order}, .., w_{i-1})}}} $$\n",
    "\n",
    "В простом виде, при обучении нграмной языковой модели, чтобы рассчитать условную вероятность каждой нграмы, используется формула, основанная на количестве появлений нграмы в обучающей выборке. Формула выглядит следующим образом:\n",
    "$$ P(w_i| w_{i-order}, .., w_{i-1}) = {{count(w_{i-order}, .., w_{i})} \\over {count(w_{i-order},..., w_{i-1})}} $$\n",
    "\n",
    "Поскольку униграмы не содержат в себе какого-дибо контекста, вероятность униграмы можно посчитать поделив кол-во этой слова на общее количество слов в обучающей выборке. \n"
   ]
  },
  {
   "cell_type": "code",
   "execution_count": 5,
   "id": "5837fe90",
   "metadata": {},
   "outputs": [],
   "source": [
    "import re\n",
    "\n",
    "def clean_split_sentence(sentence: str, bos: bool, eos: bool):\n",
    "    if bos:\n",
    "        sentence = '<s> ' + sentence\n",
    "    if eos:\n",
    "        sentence += ' </s>'\n",
    "    \n",
    "    sentence = re.sub(r'  ', ' ', sentence.strip(' ').lower())\n",
    "    return sentence.split(' ')\n",
    "\n",
    "def count_ngram_in_sentence(sentence: List[str], ngram: List[str]):\n",
    "    ngram_len = len(ngram)\n",
    "    return len([i for i in range(len(sentence) - ngram_len + 1) if sentence[i : i + ngram_len] == ngram])\n",
    "\n",
    "def count_ngrams_for_sentence(sentence: List[str], order: int):\n",
    "    res = {}\n",
    "    \n",
    "    for legth in range(1, order + 1):\n",
    "        for i in range(len(sentence) - legth + 1):\n",
    "            ngram = sentence[i : i + legth]\n",
    "            count = count_ngram_in_sentence(sentence, ngram)\n",
    "            res[tuple(ngram)] = count\n",
    "\n",
    "    return res\n",
    "\n",
    "def add_ngrams(current: Dict[Tuple[str], int], new: Dict[Tuple[str], int]):\n",
    "    for ngram in new:\n",
    "        if ngram in current:\n",
    "            current[ngram] += new[ngram]\n",
    "        else:\n",
    "            current[ngram] = new[ngram]\n",
    "\n",
    "    return current\n",
    "\n",
    "# в первую очередь нам понадобится подсчитать статистику по обучающей выборке \n",
    "def count_ngrams(train_text: List[str], order=3, bos=True, eos=True) -> Dict[Tuple[str], int]:\n",
    "    ngrams = {}\n",
    "\n",
    "    for sentence in train_text:\n",
    "        sentence_ngrams = count_ngrams_for_sentence(clean_split_sentence(sentence, bos, eos), order)\n",
    "        ngrams = add_ngrams(ngrams, sentence_ngrams)\n",
    "        \n",
    "    return ngrams"
   ]
  },
  {
   "cell_type": "code",
   "execution_count": 6,
   "id": "fd69d44d",
   "metadata": {},
   "outputs": [
    {
     "name": "stdout",
     "output_type": "stream",
     "text": [
      "Test 1a passed\n"
     ]
    }
   ],
   "source": [
    "def test_count_ngrams():\n",
    "    assert count_ngrams(['привет привет как дела'], order=1, bos=True, eos=True) == {\n",
    "        ('<s>',): 1, \n",
    "        ('привет',): 2, \n",
    "        ('как',): 1, \n",
    "        ('дела',): 1, \n",
    "        ('</s>',): 1\n",
    "    }\n",
    "    assert count_ngrams(['привет привет как дела'], order=1, bos=False, eos=True) == {\n",
    "        ('привет',): 2, \n",
    "        ('как',): 1, \n",
    "        ('дела',): 1, \n",
    "        ('</s>',): 1\n",
    "    }\n",
    "    assert count_ngrams(['привет привет как дела'], order=1, bos=False, eos=False) == {\n",
    "        ('привет',): 2, \n",
    "        ('как',): 1, \n",
    "        ('дела',): 1\n",
    "    }\n",
    "    assert count_ngrams(['привет привет как дела'], order=2, bos=False, eos=False) == {\n",
    "        ('привет',): 2, \n",
    "        ('как',): 1, \n",
    "        ('дела',): 1,\n",
    "        ('привет', 'привет'): 1,\n",
    "        ('привет', 'как'): 1,\n",
    "        ('как', 'дела'): 1\n",
    "    }    \n",
    "    assert count_ngrams(['привет ' * 6], order=2, bos=False, eos=False) == {\n",
    "        ('привет',): 6, \n",
    "        ('привет', 'привет'): 5\n",
    "    }\n",
    "    result = count_ngrams(['практическое сентября',\n",
    "                           'второе практическое занятие пройдет в офлайне 32 сентября в 12 часов 32 минуты',\n",
    "                           'в офлайне в 32 12'], order=5)\n",
    "    assert result[('<s>',)] == 3\n",
    "    assert result[('32',)] == 3\n",
    "    assert result[('<s>', 'в', 'офлайне', 'в', '32')] == 1\n",
    "    assert result[('офлайне', 'в', '32', '12', '</s>')] == 1\n",
    "    print('Test 1a passed')\n",
    "    \n",
    "    \n",
    "test_count_ngrams()  "
   ]
  },
  {
   "cell_type": "markdown",
   "id": "ac6e1865",
   "metadata": {},
   "source": [
    "\n",
    "Простой подход к вычислению вероятностей через количество нграм имеет существенный недостаток. Если в тексте встретится нграмма, которой не было в обучающей выборке, то вероятность всего текста будет равна нулю. \n",
    "\n",
    "Чтобы избежать данного недостатка, вводится специальное сглаживание - [сглаживание Лапласа](https://en.wikipedia.org/wiki/Additive_smoothing). Данная техника позволяет учитывать нграмы, не встретившиеся в обучающей выборке, и при этом не делает вероятность текста равной нулю.\n",
    "\n",
    "Формула сглаживания Лапласа выглядит следующим образом:\n",
    "\n",
    "$$ P(w_i| w_{i-order}, .., w_{i-1}) = {{count(w_{i-order}, .., w_{i}) + k} \\over {count(w_{i-order},..., w_{i-1}) + k*V}} $$\n",
    "\n",
    "Здесь V - количество слов в словаре, а k - гиперпараметр, который контролирует меру сглаживания. Как правило, значение k выбирается экспериментально, чтобы найти оптимальный баланс между учетом редких нграм и сохранением вероятности для часто встречающихся нграм.\n"
   ]
  },
  {
   "cell_type": "code",
   "execution_count": 7,
   "id": "d618aaa1",
   "metadata": {},
   "outputs": [],
   "source": [
    "{1, 2, 3}.update({5, 6})"
   ]
  },
  {
   "cell_type": "code",
   "execution_count": 8,
   "id": "4cafb4b8",
   "metadata": {},
   "outputs": [],
   "source": [
    "# функция подсчета вероятности через количество со сглаживанием Лапласа\n",
    "def calculate_ngram_prob(ngram: Tuple[str], counts: Dict[Tuple[str], int], V=None, k=0) -> float:\n",
    "    # подсчитывет ngram со сглаживанием Лапласа\n",
    "    \n",
    "    other_ngrams_count = sum([value for key, value in counts.items() if len(key) == len(ngram) and key[: -1] == ngram[: -1]])\n",
    "\n",
    "    if V is None:\n",
    "        V = len([key for key in counts if len(key) == 1])\n",
    "    \n",
    "    ngram_count = counts[ngram] if ngram in counts else 0\n",
    "\n",
    "    # print(\"({0} + {1}) / ({2} + {1} * {3})\".format(ngram_count, k, other_ngrams_count, V) )\n",
    "\n",
    "    prob = (ngram_count + k) / (other_ngrams_count + k * V)\n",
    "    return prob"
   ]
  },
  {
   "cell_type": "code",
   "execution_count": 9,
   "id": "60b25d7f",
   "metadata": {},
   "outputs": [
    {
     "name": "stdout",
     "output_type": "stream",
     "text": [
      "Test 1.b passed\n"
     ]
    }
   ],
   "source": [
    "def test_calculate_ngram_prob():\n",
    "    counts = count_ngrams(['практическое сентября',\n",
    "                           'второе практическое занятие в офлайне 32 сентября в 12 часов 32 минуты',\n",
    "                           'в офлайне в 32 12'], order=4)\n",
    "    assert calculate_ngram_prob(('в', 'офлайне'), counts) == 0.5\n",
    "    assert calculate_ngram_prob(('в', ), counts) == 4/25\n",
    "    assert calculate_ngram_prob(('в', ), counts, k=0.5) == (4+0.5)/(25+0.5*12)\n",
    "    assert calculate_ngram_prob(('в', 'офлайне', 'в', '32'), counts) == 1.0\n",
    "    assert calculate_ngram_prob(('в', 'офлайне'), counts, k=1) == 0.1875\n",
    "    assert calculate_ngram_prob(('в', 'офлайне'), counts, k=0.5) == 0.25\n",
    "    assert calculate_ngram_prob(('в', 'онлайне'), counts, k=0) == 0.0\n",
    "    assert calculate_ngram_prob(('в', 'онлайне'), counts, k=1) == 0.0625\n",
    "    assert calculate_ngram_prob(('в', 'офлайне'), counts, k=0.5) == 0.25\n",
    "\n",
    "    print(\"Test 1.b passed\")\n",
    "    \n",
    "\n",
    "test_calculate_ngram_prob()  "
   ]
  },
  {
   "cell_type": "markdown",
   "id": "da494bf0",
   "metadata": {},
   "source": [
    "Основной метрикой язковых моделей является перплексия. \n",
    "\n",
    "Перплексия  — безразмерная величина, мера того, насколько хорошо распределение вероятностей предсказывает выборку. Низкий показатель перплексии указывает на то, что распределение вероятности хорошо предсказывает выборку.\n",
    "\n",
    "$$ ppl = {P(w_1, w_2 ,..., w_N)^{- {1} \\over {N}}} $$\n"
   ]
  },
  {
   "cell_type": "code",
   "execution_count": 10,
   "id": "4bd1f2e5",
   "metadata": {},
   "outputs": [],
   "source": [
    "# Языковая модель \n",
    "class NgramLM:\n",
    "    def __init__(self, order=3, bos=True, eos=True, k=1, predefined_vocab=None):\n",
    "        self.order = order\n",
    "        self.eos = eos\n",
    "        self.bos = bos\n",
    "        self.k = k\n",
    "        self.vocab = predefined_vocab\n",
    "        self.ngrams_count = None\n",
    "        \n",
    "    @property\n",
    "    def V(self) -> int:\n",
    "        return len(self.vocab)\n",
    "    \n",
    "    def fit(self, train_text: List[str]) -> None:\n",
    "        self.ngrams_count = count_ngrams(train_text, self.order, self.bos, self.eos)\n",
    "        self.vocab = [key[0] for key in self.ngrams_count if len(key) == 1]\n",
    "    \n",
    "    def predict_ngram_log_proba(self, ngram: Tuple[str]) -> float:\n",
    "        return np.log(calculate_ngram_prob(ngram, self.ngrams_count, V=len(self.vocab), k=self.k))\n",
    "           \n",
    "    def predict_log_proba(self, words: List[str]) -> float:\n",
    "        if self.bos:\n",
    "            words = ['<s>'] + words\n",
    "        if self.eos:\n",
    "            words = words + ['</s>']\n",
    "        logprob = 0\n",
    "\n",
    "        # применяем chain rule, чтобы посчитать логарифм вероятности всей строки\n",
    "        ngrams = [tuple(words[max(i - self.order, 0) : i]) for i in range(1, len(words) + 1)]\n",
    "        # print(ngrams)\n",
    "        logprob = np.mean([self.predict_ngram_log_proba(ngram) for ngram in ngrams])\n",
    "        # print(logprob)\n",
    "\n",
    "        return logprob\n",
    "        \n",
    "    def ppl(self, text: List[str]) -> float:\n",
    "        # подсчет перплексии\n",
    "        # Для того, чтобы ваш код был численно стабильным, \n",
    "        #    не считайте формулу напрямую, а воспользуйтесь переходом к логарифмам вероятностей\n",
    "        # \n",
    "        \n",
    "        # print(text)\n",
    "\n",
    "        log_prob_list = [self.predict_log_proba(sentence.split()) for sentence in text]\n",
    "        # print(log_prob_list)\n",
    "        mean_log_prob = np.mean(log_prob_list)\n",
    "        perplexity = np.exp(-mean_log_prob)\n",
    "        \n",
    "        # print(perplexity)\n",
    "        \n",
    "        return perplexity"
   ]
  },
  {
   "cell_type": "code",
   "execution_count": 11,
   "id": "bb0bfe64",
   "metadata": {},
   "outputs": [],
   "source": [
    "def test_lm():\n",
    "    train_data = [\"по-моему мы сэкономим уйму времени если я сойду с ума прямо сейчас\",\n",
    "                  \"если я сойду с ума прямо сейчас по-моему мы сэкономим уйму времени\",\n",
    "                  \"мы сэкономим уйму времени если я сейчас сойду с ума по-моему\"]\n",
    "    global lm\n",
    "    lm = NgramLM(order=2)\n",
    "    lm.fit(train_data)\n",
    "    assert lm.V == 14\n",
    "    assert np.isclose(lm.predict_log_proba(['мы']), lm.predict_log_proba([\"если\"]))\n",
    "    assert lm.predict_log_proba([\"по-моему\"]) > lm.predict_log_proba([\"если\"]) \n",
    "    \n",
    "    gt = ((3+1)/(41 + 14) * 1/(3+14))**(-1/2)\n",
    "    ppl = lm.ppl([''])\n",
    "    assert  np.isclose(ppl, gt), f\"{ppl=} {gt=}\"\n",
    "    \n",
    "    gt = ((3+1)/(41 + 14) * 1/(3+14) * 1/(14)) ** (-1/3)\n",
    "    ppl = lm.ppl(['ЧТО'])\n",
    "    assert  np.isclose(ppl, gt), f\"{ppl=} {gt=}\"\n",
    "    \n",
    "    test_data = [\"по-моему если я прямо сейчас сойду с ума мы сэкономим уйму времени\"]\n",
    "    ppl = lm.ppl(test_data)\n",
    "    assert round(ppl, 2) == 7.33, f\"{ppl}\"\n",
    "test_lm()"
   ]
  },
  {
   "cell_type": "markdown",
   "id": "edafa0a2",
   "metadata": {},
   "source": [
    "# 2. Предсказания с помощью языковой модели (4 балла)"
   ]
  },
  {
   "cell_type": "code",
   "execution_count": 14,
   "id": "85d2eb63",
   "metadata": {},
   "outputs": [],
   "source": [
    "def predict_next_word(lm: NgramLM, prefix: str, topk=4):\n",
    "    # функция, которая предсказывает продолжение фразы. \n",
    "    # верните topk наиболее вероятных продолжений фразы prefix \n",
    "    vocab = lm.vocab\n",
    "    \n",
    "    probability = []\n",
    "    for posible_next in vocab:\n",
    "        posible_text = prefix + \" \" + posible_next\n",
    "        proba = lm.ppl(posible_text.split())\n",
    "        probability.append([posible_next, proba])\n",
    "\n",
    "    probability = np.array(probability)\n",
    "    top_prob_args = np.array(np.argpartition(probability, kth=-topk, axis=0))[-topk:, 1]\n",
    "    top_prob = probability[top_prob_args]\n",
    "    \n",
    "    return top_prob\n",
    "    "
   ]
  },
  {
   "cell_type": "markdown",
   "id": "3fc4846b",
   "metadata": {},
   "source": [
    "Обучите языковую модель на всем тексте из этой лабораторной работы (не забудьте заранее нормализовать текст).\n",
    "\n",
    "Что предскажет модель по префиксам `по-моему`, `сэкономим`, `нграм` и `вероятности`? "
   ]
  },
  {
   "cell_type": "code",
   "execution_count": 15,
   "id": "107862fe",
   "metadata": {},
   "outputs": [
    {
     "data": {
      "text/plain": [
       "array([['нулю', '94.00117664258929'],\n",
       "       ['языковые', '94.15121953901945'],\n",
       "       ['выборке', '94.22579489882729'],\n",
       "       ['в', '94.88404281461804']], dtype='<U32')"
      ]
     },
     "metadata": {},
     "output_type": "display_data"
    },
    {
     "data": {
      "text/plain": [
       "array([['нулю', '94.22796257875743'],\n",
       "       ['языковые', '94.37836746660042'],\n",
       "       ['выборке', '94.45312274588792'],\n",
       "       ['в', '95.11295874147878']], dtype='<U32')"
      ]
     },
     "metadata": {},
     "output_type": "display_data"
    },
    {
     "data": {
      "text/plain": [
       "array([['текста', '90.2446692434014'],\n",
       "       ['вероятность', '90.45826957968208'],\n",
       "       ['нграм', '90.45826957968208'],\n",
       "       ['модели', '90.73920377342874']], dtype='<U32')"
      ]
     },
     "metadata": {},
     "output_type": "display_data"
    },
    {
     "data": {
      "text/plain": [
       "array([['нулю', '94.15267041885308'],\n",
       "       ['языковые', '94.30295512677755'],\n",
       "       ['выборке', '94.37765067340938'],\n",
       "       ['в', '95.03695943190489']], dtype='<U32')"
      ]
     },
     "metadata": {},
     "output_type": "display_data"
    },
    {
     "data": {
      "text/plain": [
       "array([['текста', '97.23727235686678'],\n",
       "       ['вероятность', '97.39064599072992'],\n",
       "       ['нграм', '97.39064599072992'],\n",
       "       ['модели', '97.59218437355459']], dtype='<U32')"
      ]
     },
     "metadata": {},
     "output_type": "display_data"
    }
   ],
   "source": [
    "#Your code here  \n",
    "test_text = [\"Языковые модели\",\n",
    "\"Языковые модели играют важную роль в системах распознавания речи, помогая создавать более грамотные и лексически корректные тексты. В данной работе мы будем изучать нграмные языковые модели, которые позволяют довольно легко оценить вероятность и правдоподобность текста.\",\n",
    "\"В нграмной языковой модели, нграм - это последовательность из n слов в тексте. Например, в предложении \\\"по-моему мы сэкономим уйму времени если я сойду с ума прямо сейчас\\\", биграмами будут \\\"по-моему мы\\\", \\\"мы сэкономим\\\", \\\"сэкономим уйму\\\" итд. Языковые модели оценивают вероятность появления последовательности слов, исходя из статистики появления каждого из нграм в обучающей выборке.\",\n",
    "\"Порядком (order) нграм языковой модели называют максимальную длину нграм, которую учитывает модель. \",\n",
    "\"Практическая работа разделена на 2 части: \",\n",
    "\"1. Построение нграмой языковой модели - основная часть, 12 баллов\",\n",
    "\"1. Предсказание с помощью языковой модели - дополнительная часть, 4 балла\",\n",
    "\"Построение нграмной языковой модели. (12 баллов)\",\n",
    "\"Вероятность текста с помощью нграмной языковой модели можно вычислить по формуле: \",\n",
    "\"В простом виде, при обучении нграмной языковой модели, чтобы рассчитать условную вероятность каждой нграмы, используется формула, основанная на количестве появлений нграмы в обучающей выборке. Формула выглядит следующим образом:\",\n",
    "\"Поскольку униграмы не содержат в себе какого-дибо контекста, вероятность униграмы можно посчитать поделив кол-во этой слова на общее количество слов в обучающей выборке\",\n",
    "\"Простой подход к вычислению вероятностей через количество нграм имеет существенный недостаток. Если в тексте встретится нграмма, которой не было в обучающей выборке, то вероятность всего текста будет равна нулю. \",\n",
    "\"Чтобы избежать данного недостатка, вводится специальное сглаживание - [сглаживание Лапласа]. Данная техника позволяет учитывать нграмы, не встретившиеся в обучающей выборке, и при этом не делает вероятность текста равной нулю.\",\n",
    "\"Формула сглаживания Лапласа выглядит следующим образом:\",\n",
    "\"Здесь V - количество слов в словаре, а k - гиперпараметр, который контролирует меру сглаживания. Как правило, значение k выбирается экспериментально, чтобы найти оптимальный баланс между учетом редких нграм и сохранением вероятности для часто встречающихся нграм\",\n",
    "\"Основной метрикой язковых моделей является перплексия. \",\n",
    "\"Перплексия  — безразмерная величина, мера того, насколько хорошо распределение вероятностей предсказывает выборку. Низкий показатель перплексии указывает на то, что распределение вероятности хорошо предсказывает выборку.\"\n",
    "]\n",
    "\n",
    "def clear_text(text: List[str]):\n",
    "    res = []\n",
    "    for sentence in text:\n",
    "        clean_sentence = re.sub(r'[^\\w\\s]', '', sentence.lower())\n",
    "        clean_sentence = re.sub(r'  ', ' ', clean_sentence).strip()\n",
    "        res.append(clean_sentence)\n",
    "    return res\n",
    "\n",
    "clean_text = clear_text(test_text)\n",
    "\n",
    "lm = NgramLM(order=2)\n",
    "lm.fit(clean_text)\n",
    "\n",
    "display(predict_next_word(lm, \"по-моему\"))\n",
    "display(predict_next_word(lm, \"сэкономим\"))\n",
    "display(predict_next_word(lm, \"нграм\"))\n",
    "display(predict_next_word(lm, \"вероятности\"))\n",
    "\n",
    "display(predict_next_word(lm, \"нграм имеет\"))"
   ]
  }
 ],
 "metadata": {
  "kernelspec": {
   "display_name": "Python 3 (ipykernel)",
   "language": "python",
   "name": "python3"
  },
  "language_info": {
   "codemirror_mode": {
    "name": "ipython",
    "version": 3
   },
   "file_extension": ".py",
   "mimetype": "text/x-python",
   "name": "python",
   "nbconvert_exporter": "python",
   "pygments_lexer": "ipython3",
   "version": "3.9.5"
  }
 },
 "nbformat": 4,
 "nbformat_minor": 5
}
