{
 "cells": [
  {
   "cell_type": "markdown",
   "id": "7e5b3f1c-f656-4b44-9385-7bfcd1558469",
   "metadata": {},
   "source": [
    "# Лабораторная работа 1. Подсчет ошибки распознавания"
   ]
  },
  {
   "cell_type": "markdown",
   "id": "8e5c72b7-e242-412c-851c-02479bff8773",
   "metadata": {},
   "source": [
    "WER (Word Error Rate) является метрикой для оценки качества систем распознавания речи. Она показывает процент ошибочных слов в гипотезе распознавания по сравнению с эталонным текстом. WER учитывает три типа ошибок: вставки, удаления и замены. \n",
    "$$ WER = {I + D + S \\over D + S + C} $$\n",
    "где I, D, S - количество втавок, удалений и замен, соответственно. C - количество правильно распознанных слов"
   ]
  },
  {
   "cell_type": "markdown",
   "id": "aa45f820-960d-47bd-bd7d-9bd284a239d7",
   "metadata": {},
   "source": [
    "Лабораторная работа состоит из трех частей. Первая часть (функция подсчета WER) обязательная, остальные дополнительные. Всего за работу можно получить максимум 20 баллов. 4 за сдачу в срок и 16 за задания: \n",
    "* функция подсчета WER (тест 1.a, 1.b) - 8 баллов\n",
    "* функция подсчета WER и ошибки пунктуации (тест 2.a) - 4 балла\n",
    "* функция подсчета SA-WER (тест 3.а) - 4 балла"
   ]
  },
  {
   "cell_type": "markdown",
   "id": "e7765f57-93d1-4310-b2c6-b88189c16099",
   "metadata": {},
   "source": [
    "# 1. Word Error Rate (8 баллов)"
   ]
  },
  {
   "cell_type": "markdown",
   "id": "1af47bb7-3c52-4d0f-aa72-426bad9089fc",
   "metadata": {},
   "source": [
    "## 1.a. подсчет WER \n",
    "\n",
    "\n",
    "Функция должна принимать две строки в качестве входных данных: эталонный текст и распознанный текст. Эталонный текст - это то, что произносится в аудиозаписи, а гипотеза распознавания - это текст, полученный от системы распознавания речи. Для корректного вычисления ошибки распознавания необходимо удалить все символы пунктуации и привести все слова к нижнему регистру.\n",
    "\n"
   ]
  },
  {
   "cell_type": "code",
   "execution_count": 1,
   "id": "06e89202-5b26-4a55-b3a0-2e1996d07552",
   "metadata": {},
   "outputs": [
    {
     "name": "stdout",
     "output_type": "stream",
     "text": [
      "Word Error Rate: 33.33%\n"
     ]
    }
   ],
   "source": [
    "import re\n",
    "\n",
    "def clean_split_text(text: str):\n",
    "    text = re.sub(r'  ', ' ', text.lower())\n",
    "    text = re.sub(r'[\\\\\\,\\.\\-;!?]', '', text)\n",
    "    return text.split()\n",
    "\n",
    "def make_distance_matrix(ref_words: list, rec_words: list):\n",
    "    distance_matrix = [[0] * (len(rec_words) + 1) for _ in range(len(ref_words) + 1)]\n",
    "    # Наполнение первой строки матрицы\n",
    "    for i in range(len(ref_words) + 1):\n",
    "        distance_matrix[i][0] = i\n",
    "\n",
    "    # Наполнение первого столбца матрицы\n",
    "    for j in range(len(rec_words) + 1):\n",
    "        distance_matrix[0][j] = j\n",
    "\n",
    "    # Заполнение матрицы расстояний методом динамического программирования\n",
    "    for i in range(1, len(ref_words) + 1):\n",
    "        for j in range(1, len(rec_words) + 1):\n",
    "            prev_val = 0\n",
    "            next_val = min(distance_matrix[i - 1][j - 1] + int(ref_words[i - 1] != rec_words[j - 1]), \n",
    "                           distance_matrix[i - 1][j] + 1, \n",
    "                           distance_matrix[i][j - 1] + 1)\n",
    "\n",
    "            distance_matrix[i][j] = next_val\n",
    "    \n",
    "    return distance_matrix\n",
    "\n",
    "def calculate_wer(reference_text: str, recognized_text: str) -> float:\n",
    "    # Приведение текста к нижнему регистру, удаление символов пунктуации и разбивка на слова\n",
    "    \n",
    "    reference_words = clean_split_text(reference_text)\n",
    "    recognized_words = clean_split_text(recognized_text)\n",
    "\n",
    "    # расстояние Левенштейна \n",
    "    \n",
    "    # Инициализация матрицы для подсчета расстояния между словами\n",
    "    distance_matrix = make_distance_matrix(reference_words, recognized_words)\n",
    "\n",
    "    # Расчет WER  (в процентах)\n",
    "    wer = distance_matrix[-1][-1] / len(reference_words) * 100\n",
    "    return wer\n",
    "\n",
    "wer = calculate_wer('Я ел солонину', 'Я ел слона')\n",
    "print(f\"Word Error Rate: {wer:.2f}%\")"
   ]
  },
  {
   "cell_type": "code",
   "execution_count": 2,
   "id": "f604bfbe-3af2-4550-9119-9031b65a06d8",
   "metadata": {},
   "outputs": [
    {
     "name": "stdout",
     "output_type": "stream",
     "text": [
      "Test 1.a passed\n"
     ]
    }
   ],
   "source": [
    "def assert_wer(ref, hyp, ideal_wer):\n",
    "    wer = calculate_wer(ref, hyp)\n",
    "    assert round(wer, 2) == round(ideal_wer, 2), f\"for '{hyp=}' and '{ref=}' {ideal_wer=}, calculate_wer {wer=}\"\n",
    "    \n",
    "def test_wer():\n",
    "    assert_wer('привет студент', 'привет студент', 0)\n",
    "    assert_wer('привет! Студент.', 'Привет, студент?', 0)\n",
    "    assert_wer('привет студент', 'студент', 50)\n",
    "    assert_wer('привет студент', '', 100)\n",
    "    assert_wer('привет студент', 'студент привет', 100)\n",
    "    assert_wer('привет', 'привет студент', 100)\n",
    "    assert_wer('привет студент привет как дела', 'студент привет', 60)\n",
    "    assert_wer('привет студент привет как дела', 'привет как дела', 40)\n",
    "    assert_wer('привет студент привет как дела ', 'привет студент дела ', 40)\n",
    "    assert_wer('привет студент привет как дела '*100, 'привет студент дела '*100, 40)\n",
    "\n",
    "    print(f\"Test 1.a passed\")\n",
    "    \n",
    "test_wer() \n",
    "    "
   ]
  },
  {
   "cell_type": "markdown",
   "id": "50b32777-0fae-4999-9843-88313c1e3607",
   "metadata": {},
   "source": [
    "## 1.b. Построение выравнивания\n",
    "Реализованная в части 1.a. функция выдает только суммарное значение ошибки распознавания, не давая понимания, в чем состоят основные проблемы распознавания. \n",
    "\n",
    "Значение WER получается из трех видов ошибок: \n",
    "* вставка (insertion)\n",
    "* удаление (deletion)\n",
    "* замена (substitution)\n",
    "\n",
    "Каждый тип ошибок имеет свое значение и указывает на определенные недостатки системы. Например, большое количество вставок означает, что ASR слышит речь там где ее нет. А большое количество удалений показывает, что целевая речь пропускается и не транскрибируется. \n",
    "\n",
    "Кроме числовых значений каждой ошибки, для анализа результатов работы системы может пригодиться выравнивание эталонной текстовки и гипотезы распознавания относительно друг друга. \n",
    "\n",
    "пример выравнивания: \n",
    "\n",
    "```\n",
    ">>> tabulate(ali)\n",
    "\n",
    "Я сегодня  ***   учуcь  в  универе\n",
    "Я    с    завтра учусь *** универе  \n",
    "C    S      I      C    D    C    \n",
    "```\n",
    "\n",
    "Реализуйте функцию, которая кроме числового значения WER возвращает выравнивание, а также значения каждого типа ошибок распознавания (вставки, удаления, замены)."
   ]
  },
  {
   "cell_type": "code",
   "execution_count": 3,
   "id": "414a0cdb-7230-493a-93ba-2d15547a537a",
   "metadata": {},
   "outputs": [
    {
     "name": "stdout",
     "output_type": "stream",
     "text": [
      "Requirement already satisfied: tabulate in g:\\python3.9.5\\lib\\site-packages (0.9.0)\n"
     ]
    },
    {
     "name": "stderr",
     "output_type": "stream",
     "text": [
      "WARNING: Ignoring invalid distribution - (g:\\python3.9.5\\lib\\site-packages)\n",
      "WARNING: Ignoring invalid distribution -atplotlib (g:\\python3.9.5\\lib\\site-packages)\n",
      "WARNING: Ignoring invalid distribution -ip (g:\\python3.9.5\\lib\\site-packages)\n",
      "WARNING: Ignoring invalid distribution -p (g:\\python3.9.5\\lib\\site-packages)\n",
      "WARNING: Ignoring invalid distribution - (g:\\python3.9.5\\lib\\site-packages)\n",
      "WARNING: Ignoring invalid distribution -atplotlib (g:\\python3.9.5\\lib\\site-packages)\n",
      "WARNING: Ignoring invalid distribution -ip (g:\\python3.9.5\\lib\\site-packages)\n",
      "WARNING: Ignoring invalid distribution -p (g:\\python3.9.5\\lib\\site-packages)\n",
      "\n",
      "[notice] A new release of pip is available: 23.2.1 -> 23.3.2\n",
      "[notice] To update, run: python.exe -m pip install --upgrade pip\n"
     ]
    }
   ],
   "source": [
    "!pip install tabulate\n",
    "from tabulate import tabulate\n",
    "# используйте tabulate для отладки"
   ]
  },
  {
   "cell_type": "code",
   "execution_count": 58,
   "id": "8d6d7687-ff3a-4a46-80ec-12efcab49027",
   "metadata": {},
   "outputs": [],
   "source": [
    "def get_next_min_distance(distance_matrix, ref_i, rec_i, is_s_accept = True):\n",
    "    vals = []\n",
    "\n",
    "    if (rec_i - 1 >= 0):\n",
    "        vals.append(distance_matrix[rec_i - 1][ref_i])\n",
    "    if (ref_i - 1 >= 0):\n",
    "        vals.append(distance_matrix[rec_i][ref_i - 1])\n",
    "    if (is_s_accept and rec_i - 1 >= 0 and ref_i - 1 >= 0):\n",
    "        vals.append(distance_matrix[rec_i - 1][ref_i - 1])\n",
    "        \n",
    "    return min(vals)\n",
    "\n",
    "def calulate_alignment(distance_matrix, reference_words, recognized_words):\n",
    "    ali = [[], [], []]\n",
    "\n",
    "    ref_i = len(reference_words)\n",
    "    rec_i = len(recognized_words)\n",
    "    for i in range(max(len(reference_words), len(recognized_words))):\n",
    "        min_distance = get_next_min_distance(distance_matrix, rec_i, ref_i)\n",
    "\n",
    "        if (min_distance == distance_matrix[ref_i - 1][rec_i - 1]):\n",
    "            ref_i -= 1\n",
    "            rec_i -= 1\n",
    "            ali[0].append(reference_words[ref_i])\n",
    "            ali[1].append(recognized_words[rec_i])\n",
    "            ali[2].append('C' if reference_words[ref_i] == recognized_words[rec_i] else 'S')\n",
    "        \n",
    "        elif (min_distance == distance_matrix[ref_i][rec_i - 1]):\n",
    "            rec_i -= 1\n",
    "            ali[0].append('***')\n",
    "            ali[1].append(recognized_words[rec_i])\n",
    "            ali[2].append('I')\n",
    "        elif (min_distance == distance_matrix[ref_i - 1][rec_i]):\n",
    "            ref_i -= 1\n",
    "\n",
    "            ali[0].append(reference_words[ref_i])\n",
    "            ali[1].append('***')\n",
    "            ali[2].append('D')\n",
    "        else:\n",
    "            assert(False)\n",
    "\n",
    "    ali[0] = ali[0][::-1]\n",
    "    ali[1] = ali[1][::-1]\n",
    "    ali[2] = ali[2][::-1]\n",
    "\n",
    "    return ali\n",
    "\n",
    "def calculate_wer_with_alignment(reference_text: str, recognized_text: str):\n",
    "    \n",
    "    reference_words = clean_split_text(reference_text)\n",
    "    recognized_words = clean_split_text(recognized_text)\n",
    "    distance_matrix = make_distance_matrix(reference_words, recognized_words)\n",
    "\n",
    "    # Перенесите сюда код из задания 1.a.\n",
    "    wer = distance_matrix[-1][-1] / len(reference_words) * 100\n",
    "\n",
    "    # используя distance_matrix восстановите путь (набор операций), который соответстует найденому WER\n",
    "    ali = calulate_alignment(distance_matrix, reference_words, recognized_words)\n",
    "\n",
    "    correct = len([i for i in ali[2] if i == 'C'])\n",
    "    deletion = len([i for i in ali[2] if i == 'D'])\n",
    "    insertion = len([i for i in ali[2] if i == 'I'])\n",
    "    substitution = len([i for i in ali[2] if i == 'S'])\n",
    "\n",
    "    # ali[0]=  разбитый по словам референс. Втавки отабражаются в эталонном выравнивании с помощью \"***\"\n",
    "    # ali[1] = разбитая по словам гипотеза.\n",
    "    # ali[2] = аннотация \n",
    "    assert len(ali[0]) == len(ali[1]) == len(ali[2]), f\"wrong ali {ali}\"\n",
    "    \n",
    "    return {\"wer\" : wer,\n",
    "            \"cor\": correct, \n",
    "            \"del\": deletion,\n",
    "            \"ins\": insertion,\n",
    "            \"sub\": substitution,\n",
    "            \"ali\": ali}\n"
   ]
  },
  {
   "cell_type": "code",
   "execution_count": 25,
   "id": "61d93bc0",
   "metadata": {},
   "outputs": [
    {
     "data": {
      "text/plain": [
       "{'wer': 50.0,\n",
       " 'cor': 1,\n",
       " 'del': 1,\n",
       " 'ins': 0,\n",
       " 'sub': 0,\n",
       " 'ali': [['привет', 'студент'], ['***', 'студент'], ['D', 'C']]}"
      ]
     },
     "execution_count": 25,
     "metadata": {},
     "output_type": "execute_result"
    }
   ],
   "source": [
    "calculate_wer_with_alignment('привет студент', 'студент')"
   ]
  },
  {
   "cell_type": "code",
   "execution_count": 59,
   "id": "6ff4fe6c-c548-4f60-bcf9-95a164f43645",
   "metadata": {},
   "outputs": [
    {
     "name": "stdout",
     "output_type": "stream",
     "text": [
      "Test 1.b passed\n"
     ]
    }
   ],
   "source": [
    "def assert_wer_with_alignment(ref, hyp, ideal_report):\n",
    "    report = calculate_wer_with_alignment(ref, hyp)\n",
    "    for k, v in ideal_report.items():\n",
    "        if isinstance(v, float):\n",
    "            assert round(v, 2) == round(report[k], 2), f\"for '{hyp=}' and '{ref=}' {ideal_report=}, calculate_wer {report=}\"\n",
    "        else:\n",
    "            assert v == report[k], f\"for '{hyp=}' and '{ref=}' {ideal_report=}, calculate_wer {report=}\"\n",
    "\n",
    "    \n",
    "def test_wer_with_alignment():\n",
    "    assert_wer_with_alignment('привет студент', 'привет студент',  {\n",
    "            \"wer\" : 0,\n",
    "            \"cor\": 2, \n",
    "            \"del\": 0,\n",
    "            \"ins\": 0,\n",
    "            \"sub\": 0,\n",
    "            \"ali\": [[\"привет\", \"студент\"],[\"привет\", \"студент\"],['C', 'C']]})\n",
    "    assert_wer_with_alignment('привет студент', 'студент', {\n",
    "            \"wer\" : 50,\n",
    "            \"cor\": 1, \n",
    "            \"del\": 1,\n",
    "            \"ins\": 0,\n",
    "            \"sub\": 0,\n",
    "            \"ali\": [[\"привет\", \"студент\"],[\"***\", \"студент\"],['D', 'C']]})\n",
    "    assert_wer_with_alignment('привет', 'привет студент', {\n",
    "            \"wer\" : 100,\n",
    "            \"cor\": 1, \n",
    "            \"del\": 0,\n",
    "            \"ins\": 1,\n",
    "            \"sub\": 0,\n",
    "            \"ali\": [[\"привет\", \"***\"],[\"привет\", \"студент\"],['C', 'I']]})\n",
    "    assert_wer_with_alignment('привет студент', 'пока студент',  {\n",
    "            \"wer\" : 50,\n",
    "            \"cor\": 1, \n",
    "            \"del\": 0,\n",
    "            \"ins\": 0,\n",
    "            \"sub\": 1,\n",
    "            \"ali\": [[\"привет\", \"студент\"],[\"пока\", \"студент\"],['S', 'C']]})\n",
    "\n",
    "    print(f\"Test 1.b passed\")\n",
    "    \n",
    "test_wer_with_alignment() "
   ]
  },
  {
   "cell_type": "markdown",
   "id": "983a8e14-f4f1-4441-a72d-2fa693d72474",
   "metadata": {},
   "source": [
    "# 2. WER с пунктуацией (4 балла)\n",
    "Попробуйте модифицировать WER таким образом, чтобы получившаяся метрика учитавала ошибки расстановки знаков препинания. \n",
    "\n",
    "Для этого надо ввести ограничение в алгоритм подсчета distance_matrix таким образом, чтобы запретить делать замену знака препинания на слово и наоборот.\n",
    "\n",
    "Пример выравнивания \n",
    "```\n",
    "Я сегодня  .   ***   ***  А ты  \n",
    "Я    с    *** завтра  ?   А ты  \n",
    "C    S    D_p   I    I_p  C  C    \n",
    "```\n",
    "Здесь суффикс _p в аннотации к ошибкам означает **ошибки пунктуации**\n",
    "\n",
    "\n",
    "Задание: \n",
    "Напишите функцию, которая кроме стандартного WER считает дополнительно PunctuaionErrorRate (PER) по формуле\n",
    "\n",
    "$$ PER = {I_p + D_p + S_p \\over D_p + S_p + C_p} $$\n"
   ]
  },
  {
   "cell_type": "code",
   "execution_count": 69,
   "id": "726e8fa5-da39-4090-8272-c8fd053593f3",
   "metadata": {},
   "outputs": [],
   "source": [
    "def per_repl(per): \n",
    "    return ' ' + per[0] + ' '\n",
    "\n",
    "def clean_split_text_per(text: str):\n",
    "    text = re.sub(r'[\\,\\.\\-;!?]', per_repl, text.lower())\n",
    "    text = re.sub(r'  ', ' ', text)\n",
    "    text = re.sub(r'[\\\\]', '', text)\n",
    "    \n",
    "    return text.split()\n",
    "\n",
    "def is_punct(word):\n",
    "    return word == '.' or word == ',' or word == '!' or word == '?' or word == ':'\n",
    "\n",
    "def make_label(label, ref_word, rec_word):\n",
    "    corect_label = 'C'\n",
    "\n",
    "    suffix = \"_p\" if is_punct(ref_word) or is_punct(rec_word) else \"\"\n",
    "\n",
    "    label += suffix\n",
    "    corect_label += suffix\n",
    "\n",
    "    return corect_label if ref_word == rec_word else label\n",
    "\n",
    "def is_substitution_accept(reference_words, recognized_words, ref_i, rec_i):\n",
    "    return ref_i > 0 and rec_i > 0 and is_punct(reference_words[ref_i - 1]) == is_punct(recognized_words[rec_i - 1])\n",
    "\n",
    "def calulate_alignment_per(distance_matrix, reference_words, recognized_words):\n",
    "    ali = [[], [], []]\n",
    "\n",
    "    ref_i = len(reference_words)\n",
    "    rec_i = len(recognized_words)\n",
    "    for i in range(max(len(reference_words), len(recognized_words))):\n",
    "        is_s_accept = is_substitution_accept(reference_words, recognized_words, ref_i, rec_i)\n",
    "        min_distance = get_next_min_distance(distance_matrix, rec_i, ref_i, is_s_accept)\n",
    "\n",
    "        if (is_s_accept and min_distance == distance_matrix[ref_i - 1][rec_i - 1]):\n",
    "            ref_i -= 1\n",
    "            rec_i -= 1\n",
    "\n",
    "            ali[0].append(reference_words[ref_i])\n",
    "            ali[1].append(recognized_words[rec_i])\n",
    "            ali[2].append(make_label('S', reference_words[ref_i], recognized_words[rec_i]))\n",
    "            \n",
    "        elif (min_distance == distance_matrix[ref_i - 1][rec_i]):\n",
    "            ref_i -= 1\n",
    "\n",
    "            ali[0].append(reference_words[ref_i])\n",
    "            ali[1].append('***')\n",
    "            ali[2].append(make_label('D', reference_words[ref_i], '***'))\n",
    "\n",
    "        elif (min_distance == distance_matrix[ref_i][rec_i - 1]):\n",
    "            rec_i -= 1\n",
    "            \n",
    "            ali[0].append('***')\n",
    "            ali[1].append(recognized_words[rec_i])\n",
    "            ali[2].append(make_label('I', '***', recognized_words[rec_i]))\n",
    "        \n",
    "        else:\n",
    "            assert(False)\n",
    "\n",
    "    ali[0] = ali[0][::-1]\n",
    "    ali[1] = ali[1][::-1]\n",
    "    ali[2] = ali[2][::-1]\n",
    "\n",
    "    return ali\n",
    "\n",
    "def calculate_wer_per(reference_text: str, recognized_text: str):\n",
    "    \n",
    "    reference_words = clean_split_text_per(reference_text)\n",
    "    recognized_words = clean_split_text_per(recognized_text)\n",
    "\n",
    "    print(reference_words)\n",
    "    print(recognized_words)\n",
    "\n",
    "    # Инициализация матрицы для подсчета расстояния между словами\n",
    "    distance_matrix = make_distance_matrix(reference_words, recognized_words)\n",
    "\n",
    "    ali = calulate_alignment_per(distance_matrix, reference_words, recognized_words)\n",
    "\n",
    "    print(ali[0])\n",
    "    print(ali[1])\n",
    "    print(ali[2])\n",
    "\n",
    "    wer = len([label for label in ali[2] if label in ['I', 'D', 'S']]) / len([label for label in ali[2] if label in ['D', 'S', 'C']])\n",
    "    per = len([label for label in ali[2] if label in ['I_p', 'D_p', 'S_p']]) / len([w for w in reference_words if w in [',', '.', '!', '?']])\n",
    "\n",
    "    wer *= 100\n",
    "    per *= 100\n",
    "\n",
    "    return {\"wer\" : wer,\n",
    "            \"per\": per, \n",
    "            \"ali\": ali}\n"
   ]
  },
  {
   "cell_type": "code",
   "execution_count": 70,
   "id": "29a993f8",
   "metadata": {},
   "outputs": [
    {
     "name": "stdout",
     "output_type": "stream",
     "text": [
      "['привет', 'студент', '?']\n",
      "['.', 'студент', '?']\n",
      "['привет', 'студент', '?']\n",
      "['***', 'студент', '?']\n",
      "['D', 'C', 'C_p']\n"
     ]
    },
    {
     "data": {
      "text/plain": [
       "{'wer': 50.0,\n",
       " 'per': 0.0,\n",
       " 'ali': [['привет', 'студент', '?'],\n",
       "  ['***', 'студент', '?'],\n",
       "  ['D', 'C', 'C_p']]}"
      ]
     },
     "execution_count": 70,
     "metadata": {},
     "output_type": "execute_result"
    }
   ],
   "source": [
    "calculate_wer_per('привет студент?', '.студент?')"
   ]
  },
  {
   "cell_type": "code",
   "execution_count": 67,
   "id": "31f053d5-2015-4d33-8ded-e5d0160e8901",
   "metadata": {},
   "outputs": [
    {
     "name": "stdout",
     "output_type": "stream",
     "text": [
      "['привет', 'студент', '.']\n",
      "['привет', 'студент', '***']\n",
      "['C', 'C', 'D_p']\n",
      "['привет', 'студент', '.']\n",
      "['***', 'студент', '.']\n",
      "['D', 'C', 'C_p']\n",
      "['***', 'студент', '.']\n",
      "['.', 'студент', '***']\n",
      "['I_p', 'C', 'D_p']\n",
      "['привет', 'студент', '.']\n",
      "['***', 'студент', '?']\n",
      "['D', 'C', 'S_p']\n"
     ]
    },
    {
     "ename": "AssertionError",
     "evalue": "for 'hyp='.студент?'' and 'ref='привет студент.'' ideal_report={'wer': 50, 'per': 200}, calculate_wer report={'wer': 50.0, 'per': 100.0, 'ali': [['привет', 'студент', '.'], ['***', 'студент', '?'], ['D', 'C', 'S_p']]}",
     "output_type": "error",
     "traceback": [
      "\u001b[1;31m---------------------------------------------------------------------------\u001b[0m",
      "\u001b[1;31mAssertionError\u001b[0m                            Traceback (most recent call last)",
      "Cell \u001b[1;32mIn[67], line 26\u001b[0m\n\u001b[0;32m     20\u001b[0m     assert_wer_per(\u001b[38;5;124m'\u001b[39m\u001b[38;5;124mпривет студент.\u001b[39m\u001b[38;5;124m'\u001b[39m, \u001b[38;5;124m'\u001b[39m\u001b[38;5;124m.студент?\u001b[39m\u001b[38;5;124m'\u001b[39m, {\n\u001b[0;32m     21\u001b[0m             \u001b[38;5;124m\"\u001b[39m\u001b[38;5;124mwer\u001b[39m\u001b[38;5;124m\"\u001b[39m : \u001b[38;5;241m50\u001b[39m,\n\u001b[0;32m     22\u001b[0m             \u001b[38;5;124m\"\u001b[39m\u001b[38;5;124mper\u001b[39m\u001b[38;5;124m\"\u001b[39m: \u001b[38;5;241m200\u001b[39m, })\n\u001b[0;32m     24\u001b[0m     \u001b[38;5;28mprint\u001b[39m(\u001b[38;5;124mf\u001b[39m\u001b[38;5;124m\"\u001b[39m\u001b[38;5;124mTest 2 passed\u001b[39m\u001b[38;5;124m\"\u001b[39m)\n\u001b[1;32m---> 26\u001b[0m \u001b[43mtest_wer_per\u001b[49m\u001b[43m(\u001b[49m\u001b[43m)\u001b[49m \n",
      "Cell \u001b[1;32mIn[67], line 20\u001b[0m, in \u001b[0;36mtest_wer_per\u001b[1;34m()\u001b[0m\n\u001b[0;32m     14\u001b[0m assert_wer_per(\u001b[38;5;124m'\u001b[39m\u001b[38;5;124mпривет студент.\u001b[39m\u001b[38;5;124m'\u001b[39m, \u001b[38;5;124m'\u001b[39m\u001b[38;5;124mстудент.\u001b[39m\u001b[38;5;124m'\u001b[39m, {\n\u001b[0;32m     15\u001b[0m         \u001b[38;5;124m\"\u001b[39m\u001b[38;5;124mwer\u001b[39m\u001b[38;5;124m\"\u001b[39m : \u001b[38;5;241m50\u001b[39m,\n\u001b[0;32m     16\u001b[0m         \u001b[38;5;124m\"\u001b[39m\u001b[38;5;124mper\u001b[39m\u001b[38;5;124m\"\u001b[39m: \u001b[38;5;241m0\u001b[39m,})\n\u001b[0;32m     17\u001b[0m assert_wer_per(\u001b[38;5;124m'\u001b[39m\u001b[38;5;124mпривет студент.\u001b[39m\u001b[38;5;124m'\u001b[39m, \u001b[38;5;124m'\u001b[39m\u001b[38;5;124mпривет. студент\u001b[39m\u001b[38;5;124m'\u001b[39m,  {\n\u001b[0;32m     18\u001b[0m         \u001b[38;5;124m\"\u001b[39m\u001b[38;5;124mwer\u001b[39m\u001b[38;5;124m\"\u001b[39m : \u001b[38;5;241m0\u001b[39m,\n\u001b[0;32m     19\u001b[0m         \u001b[38;5;124m\"\u001b[39m\u001b[38;5;124mper\u001b[39m\u001b[38;5;124m\"\u001b[39m: \u001b[38;5;241m200\u001b[39m})\n\u001b[1;32m---> 20\u001b[0m \u001b[43massert_wer_per\u001b[49m\u001b[43m(\u001b[49m\u001b[38;5;124;43m'\u001b[39;49m\u001b[38;5;124;43mпривет студент.\u001b[39;49m\u001b[38;5;124;43m'\u001b[39;49m\u001b[43m,\u001b[49m\u001b[43m \u001b[49m\u001b[38;5;124;43m'\u001b[39;49m\u001b[38;5;124;43m.студент?\u001b[39;49m\u001b[38;5;124;43m'\u001b[39;49m\u001b[43m,\u001b[49m\u001b[43m \u001b[49m\u001b[43m{\u001b[49m\n\u001b[0;32m     21\u001b[0m \u001b[43m        \u001b[49m\u001b[38;5;124;43m\"\u001b[39;49m\u001b[38;5;124;43mwer\u001b[39;49m\u001b[38;5;124;43m\"\u001b[39;49m\u001b[43m \u001b[49m\u001b[43m:\u001b[49m\u001b[43m \u001b[49m\u001b[38;5;241;43m50\u001b[39;49m\u001b[43m,\u001b[49m\n\u001b[0;32m     22\u001b[0m \u001b[43m        \u001b[49m\u001b[38;5;124;43m\"\u001b[39;49m\u001b[38;5;124;43mper\u001b[39;49m\u001b[38;5;124;43m\"\u001b[39;49m\u001b[43m:\u001b[49m\u001b[43m \u001b[49m\u001b[38;5;241;43m200\u001b[39;49m\u001b[43m,\u001b[49m\u001b[43m \u001b[49m\u001b[43m}\u001b[49m\u001b[43m)\u001b[49m\n\u001b[0;32m     24\u001b[0m \u001b[38;5;28mprint\u001b[39m(\u001b[38;5;124mf\u001b[39m\u001b[38;5;124m\"\u001b[39m\u001b[38;5;124mTest 2 passed\u001b[39m\u001b[38;5;124m\"\u001b[39m)\n",
      "Cell \u001b[1;32mIn[67], line 7\u001b[0m, in \u001b[0;36massert_wer_per\u001b[1;34m(ref, hyp, ideal_report)\u001b[0m\n\u001b[0;32m      5\u001b[0m     \u001b[38;5;28;01massert\u001b[39;00m \u001b[38;5;28mround\u001b[39m(v, \u001b[38;5;241m2\u001b[39m) \u001b[38;5;241m==\u001b[39m \u001b[38;5;28mround\u001b[39m(report[k], \u001b[38;5;241m2\u001b[39m), \u001b[38;5;124mf\u001b[39m\u001b[38;5;124m\"\u001b[39m\u001b[38;5;124mfor \u001b[39m\u001b[38;5;124m'\u001b[39m\u001b[38;5;132;01m{\u001b[39;00mhyp\u001b[38;5;132;01m=}\u001b[39;00m\u001b[38;5;124m'\u001b[39m\u001b[38;5;124m and \u001b[39m\u001b[38;5;124m'\u001b[39m\u001b[38;5;132;01m{\u001b[39;00mref\u001b[38;5;132;01m=}\u001b[39;00m\u001b[38;5;124m'\u001b[39m\u001b[38;5;124m \u001b[39m\u001b[38;5;132;01m{\u001b[39;00mideal_report\u001b[38;5;132;01m=}\u001b[39;00m\u001b[38;5;124m, calculate_wer \u001b[39m\u001b[38;5;132;01m{\u001b[39;00mreport\u001b[38;5;132;01m=}\u001b[39;00m\u001b[38;5;124m\"\u001b[39m\n\u001b[0;32m      6\u001b[0m \u001b[38;5;28;01melse\u001b[39;00m:\n\u001b[1;32m----> 7\u001b[0m     \u001b[38;5;28;01massert\u001b[39;00m v \u001b[38;5;241m==\u001b[39m report[k], \u001b[38;5;124mf\u001b[39m\u001b[38;5;124m\"\u001b[39m\u001b[38;5;124mfor \u001b[39m\u001b[38;5;124m'\u001b[39m\u001b[38;5;132;01m{\u001b[39;00mhyp\u001b[38;5;132;01m=}\u001b[39;00m\u001b[38;5;124m'\u001b[39m\u001b[38;5;124m and \u001b[39m\u001b[38;5;124m'\u001b[39m\u001b[38;5;132;01m{\u001b[39;00mref\u001b[38;5;132;01m=}\u001b[39;00m\u001b[38;5;124m'\u001b[39m\u001b[38;5;124m \u001b[39m\u001b[38;5;132;01m{\u001b[39;00mideal_report\u001b[38;5;132;01m=}\u001b[39;00m\u001b[38;5;124m, calculate_wer \u001b[39m\u001b[38;5;132;01m{\u001b[39;00mreport\u001b[38;5;132;01m=}\u001b[39;00m\u001b[38;5;124m\"\u001b[39m\n",
      "\u001b[1;31mAssertionError\u001b[0m: for 'hyp='.студент?'' and 'ref='привет студент.'' ideal_report={'wer': 50, 'per': 200}, calculate_wer report={'wer': 50.0, 'per': 100.0, 'ali': [['привет', 'студент', '.'], ['***', 'студент', '?'], ['D', 'C', 'S_p']]}"
     ]
    }
   ],
   "source": [
    "def assert_wer_per(ref, hyp, ideal_report):\n",
    "    report = calculate_wer_per(ref, hyp)\n",
    "    for k, v in ideal_report.items():\n",
    "        if isinstance(v, float):\n",
    "            assert round(v, 2) == round(report[k], 2), f\"for '{hyp=}' and '{ref=}' {ideal_report=}, calculate_wer {report=}\"\n",
    "        else:\n",
    "            assert v == report[k], f\"for '{hyp=}' and '{ref=}' {ideal_report=}, calculate_wer {report=}\"\n",
    "\n",
    "    \n",
    "def test_wer_per():\n",
    "    assert_wer_per('привет студент.', 'привет студент',  {\n",
    "            \"wer\" : 0,\n",
    "            \"per\": 100})\n",
    "    assert_wer_per('привет студент.', 'студент.', {\n",
    "            \"wer\" : 50,\n",
    "            \"per\": 0,})\n",
    "    assert_wer_per('привет студент.', 'привет. студент',  {\n",
    "            \"wer\" : 0,\n",
    "            \"per\": 200})\n",
    "    assert_wer_per('привет студент.', '.студент?', {\n",
    "            \"wer\" : 50,\n",
    "            \"per\": 200, })\n",
    "\n",
    "    print(f\"Test 2 passed\")\n",
    "    \n",
    "test_wer_per() "
   ]
  },
  {
   "cell_type": "markdown",
   "id": "bb08f8da-e0f9-48e4-b584-3d1ab25c279c",
   "metadata": {},
   "source": [
    "# 3. Speaker-attributed Word Error Rate (4 балла)\n",
    "\n",
    "В задаче распознавания диалоговых данных, когда говорят два диктора, важно не только распознать правильно каждое слово, но и отнести его к правильному диктору. Чаще всего такой результат получается с помощью комбинации двух независимых систем: распознавания речи и диаризация. \n",
    "\n",
    "При подсчете ошибки распознавания диалоговых систем в формулу WER добавляется еще один тип ошибки - S_I (speaker incorrect).\n",
    "\n",
    "$$ SA{\\text -}WER = \\min{I + D + S + S_I \\over D + S + C + S_I} $$\n",
    "\n",
    "Кроме подсчета самой ошибки, sa-wer решает еще одну задачку - поиск маппинга из эталонных названий спикеров (например, имен) в предсказанные (чаще всего Idшники). Это необходимо, тк система диаризации не знает, какие названия у спикеров в эталоне. При подсчете SA-WER проверяются все возможные мапинги спикеров и выбирается тот, который соответствует минимальному значению ошибки. \n",
    "\n"
   ]
  },
  {
   "cell_type": "code",
   "execution_count": null,
   "id": "acb29784-c8cc-44bb-a8c4-118c5c0da9d5",
   "metadata": {},
   "outputs": [],
   "source": [
    "def calculate_sawer(reference_text, reference_speakers, recognized_text, recognized_speakers):\n",
    "    # В отличие от прошлых функций на вход sawer подаются уже разбитые на слова произнесения\n",
    "    # Кроме списка слов, дополнительно передается список меток спикеров\n",
    "    assert isinstance(reference_text, list)\n",
    "    assert isinstance(recognized_text, list)\n",
    "    assert len(reference_text) == len(reference_speakers)\n",
    "    assert len(recognized_text) == len(recognized_speakers)\n",
    "    \n",
    "    # TODO  посчитайте sawer с учетом мапинга спикеров\n",
    "    # для этого посчитайте значение ошибки для каждого варианта мапинга меток дикторов \n",
    "    # и выберете тот, который соответствует минимальному SA-WER\n",
    "    sawer=0\n",
    "    ali=[]\n",
    "    return {\"sawer\" : sawer, \n",
    "            \"ali\": ali}\n"
   ]
  },
  {
   "cell_type": "code",
   "execution_count": null,
   "id": "1c70f023-8c9f-4aeb-b4ee-fd41f2191c26",
   "metadata": {},
   "outputs": [],
   "source": [
    "def assert_sawer(reference_text, reference_speakers, recognized_text, recognized_speakers, ideal_report):\n",
    "    report = calculate_sawer(reference_text, reference_speakers, recognized_text, recognized_speakers)\n",
    "    for k, v in ideal_report.items():\n",
    "        assert v == report[k]\n",
    "\n",
    "    \n",
    "def test_sawer():\n",
    "    assert_sawer(['привет', 'студент'], ['A', 'B'], ['привет', 'студент'], [1, 2],  {\n",
    "            \"sawer\" : 0})\n",
    "    assert_sawer(['привет', 'студент'], ['A', 'A'], ['привет', 'студент'], [1, 2],  {\n",
    "            \"sawer\" : 50})\n",
    "    assert_sawer(['привет', 'студент'], ['A', 'A'], ['привет', 'студент'], [0, 0],  {\n",
    "            \"sawer\" : 0})\n",
    "    assert_sawer(['привет', 'с'], ['A', 'B'], ['привет', 'студент'], [1, 2],  {\n",
    "            \"sawer\" : 50})\n",
    "    assert_sawer(['привет', 'с'], ['A', 'B'], ['привет'], [1],  {\n",
    "            \"sawer\" : 50})\n",
    "    assert_sawer(['привет'], ['A'], ['привет', 'студент'], [1, 0],  {\n",
    "            \"sawer\" : 100})\n",
    "    assert_sawer(['привет'], ['A'], ['привет', 'студент'], [0, 0],  {\n",
    "            \"sawer\" : 100})\n",
    "\n",
    "    print(f\"Test 3 passed\")\n",
    "    \n",
    "test_sawer()"
   ]
  },
  {
   "cell_type": "code",
   "execution_count": null,
   "id": "2f758f45-926e-4d8b-a25f-c28578c6de0a",
   "metadata": {},
   "outputs": [],
   "source": []
  }
 ],
 "metadata": {
  "kernelspec": {
   "display_name": "Python 3 (ipykernel)",
   "language": "python",
   "name": "python3"
  },
  "language_info": {
   "codemirror_mode": {
    "name": "ipython",
    "version": 3
   },
   "file_extension": ".py",
   "mimetype": "text/x-python",
   "name": "python",
   "nbconvert_exporter": "python",
   "pygments_lexer": "ipython3",
   "version": "3.9.5"
  }
 },
 "nbformat": 4,
 "nbformat_minor": 5
}
